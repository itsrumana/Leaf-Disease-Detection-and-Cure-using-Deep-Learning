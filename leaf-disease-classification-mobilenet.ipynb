{
 "cells": [
  {
   "cell_type": "code",
   "execution_count": 1,
   "metadata": {
    "_cell_guid": "b1076dfc-b9ad-4769-8c92-a6c4dae69d19",
    "_uuid": "8f2839f25d086af736a60e9eeb907d3b93b6e0e5",
    "execution": {
     "iopub.execute_input": "2020-08-12T16:46:45.912041Z",
     "iopub.status.busy": "2020-08-12T16:46:45.911325Z",
     "iopub.status.idle": "2020-08-12T16:46:51.711433Z",
     "shell.execute_reply": "2020-08-12T16:46:51.711995Z"
    },
    "papermill": {
     "duration": 5.812651,
     "end_time": "2020-08-12T16:46:51.712206",
     "exception": false,
     "start_time": "2020-08-12T16:46:45.899555",
     "status": "completed"
    },
    "tags": []
   },
   "outputs": [],
   "source": [
    "import tensorflow as tf\n",
    "from tensorflow import keras\n",
    "import matplotlib.pyplot as plt\n",
    "import numpy as np\n",
    "import os"
   ]
  },
  {
   "cell_type": "code",
   "execution_count": 2,
   "metadata": {
    "execution": {
     "iopub.execute_input": "2020-08-12T16:46:51.729416Z",
     "iopub.status.busy": "2020-08-12T16:46:51.728750Z",
     "iopub.status.idle": "2020-08-12T16:46:51.732801Z",
     "shell.execute_reply": "2020-08-12T16:46:51.733306Z"
    },
    "papermill": {
     "duration": 0.014234,
     "end_time": "2020-08-12T16:46:51.733429",
     "exception": false,
     "start_time": "2020-08-12T16:46:51.719195",
     "status": "completed"
    },
    "tags": []
   },
   "outputs": [],
   "source": [
    "base_dir = \"archive\"\n",
    "image_size = 224"
   ]
  },
  {
   "cell_type": "markdown",
   "metadata": {
    "papermill": {
     "duration": 0.005855,
     "end_time": "2020-08-12T16:46:51.745172",
     "exception": false,
     "start_time": "2020-08-12T16:46:51.739317",
     "status": "completed"
    },
    "tags": []
   },
   "source": [
    "## Creating DataGenerator"
   ]
  },
  {
   "cell_type": "code",
   "execution_count": 3,
   "metadata": {
    "_cell_guid": "79c7e3d0-c299-4dcb-8224-4455121ee9b0",
    "_uuid": "d629ff2d2480ee46fbb7e2d37f6b5fab8052498a",
    "execution": {
     "iopub.execute_input": "2020-08-12T16:46:51.763984Z",
     "iopub.status.busy": "2020-08-12T16:46:51.763314Z",
     "iopub.status.idle": "2020-08-12T16:47:03.376465Z",
     "shell.execute_reply": "2020-08-12T16:47:03.376980Z"
    },
    "papermill": {
     "duration": 11.625948,
     "end_time": "2020-08-12T16:47:03.377168",
     "exception": false,
     "start_time": "2020-08-12T16:46:51.751220",
     "status": "completed"
    },
    "tags": []
   },
   "outputs": [
    {
     "name": "stdout",
     "output_type": "stream",
     "text": [
      "Found 140590 images belonging to 38 classes.\n"
     ]
    }
   ],
   "source": [
    "train_datagen = keras.preprocessing.image.ImageDataGenerator(rescale = 1/255.0,\n",
    "                                                            shear_range = 0.2,\n",
    "                                                            zoom_range = 0.2,\n",
    "                                                            width_shift_range = 0.2,\n",
    "                                                            height_shift_range = 0.2,\n",
    "                                                            fill_mode=\"nearest\")\n",
    "batch_size = 32\n",
    "train_data = train_datagen.flow_from_directory(os.path.join(base_dir,\"train\"),\n",
    "                                               target_size=(image_size,image_size),\n",
    "                                               batch_size=batch_size,\n",
    "                                               class_mode=\"categorical\"                                               \n",
    "                                              )"
   ]
  },
  {
   "cell_type": "code",
   "execution_count": 4,
   "metadata": {
    "execution": {
     "iopub.execute_input": "2020-08-12T16:47:03.395419Z",
     "iopub.status.busy": "2020-08-12T16:47:03.394752Z",
     "iopub.status.idle": "2020-08-12T16:47:05.157092Z",
     "shell.execute_reply": "2020-08-12T16:47:05.157727Z"
    },
    "papermill": {
     "duration": 1.774246,
     "end_time": "2020-08-12T16:47:05.157892",
     "exception": false,
     "start_time": "2020-08-12T16:47:03.383646",
     "status": "completed"
    },
    "tags": []
   },
   "outputs": [
    {
     "name": "stdout",
     "output_type": "stream",
     "text": [
      "Found 35144 images belonging to 38 classes.\n"
     ]
    }
   ],
   "source": [
    "test_datagen = keras.preprocessing.image.ImageDataGenerator(rescale = 1/255.0)\n",
    "test_data = test_datagen.flow_from_directory(os.path.join(base_dir,\"valid\"),\n",
    "                                               target_size=(image_size,image_size),\n",
    "                                               batch_size=batch_size,\n",
    "                                               class_mode=\"categorical\"                                               \n",
    "                                              )"
   ]
  },
  {
   "cell_type": "code",
   "execution_count": 5,
   "metadata": {
    "execution": {
     "iopub.execute_input": "2020-08-12T16:47:05.176244Z",
     "iopub.status.busy": "2020-08-12T16:47:05.175437Z",
     "iopub.status.idle": "2020-08-12T16:47:05.180011Z",
     "shell.execute_reply": "2020-08-12T16:47:05.180491Z"
    },
    "papermill": {
     "duration": 0.016016,
     "end_time": "2020-08-12T16:47:05.180627",
     "exception": false,
     "start_time": "2020-08-12T16:47:05.164611",
     "status": "completed"
    },
    "tags": []
   },
   "outputs": [
    {
     "name": "stdout",
     "output_type": "stream",
     "text": [
      "['Apple___Apple_scab', 'Apple___Black_rot', 'Apple___Cedar_apple_rust', 'Apple___healthy', 'Blueberry___healthy', 'Cherry_(including_sour)___Powdery_mildew', 'Cherry_(including_sour)___healthy', 'Corn_(maize)___Cercospora_leaf_spot Gray_leaf_spot', 'Corn_(maize)___Common_rust_', 'Corn_(maize)___Northern_Leaf_Blight', 'Corn_(maize)___healthy', 'Grape___Black_rot', 'Grape___Esca_(Black_Measles)', 'Grape___Leaf_blight_(Isariopsis_Leaf_Spot)', 'Grape___healthy', 'Orange___Haunglongbing_(Citrus_greening)', 'Peach___Bacterial_spot', 'Peach___healthy', 'Pepper,_bell___Bacterial_spot', 'Pepper,_bell___healthy', 'Potato___Early_blight', 'Potato___Late_blight', 'Potato___healthy', 'Raspberry___healthy', 'Soybean___healthy', 'Squash___Powdery_mildew', 'Strawberry___Leaf_scorch', 'Strawberry___healthy', 'Tomato___Bacterial_spot', 'Tomato___Early_blight', 'Tomato___Late_blight', 'Tomato___Leaf_Mold', 'Tomato___Septoria_leaf_spot', 'Tomato___Spider_mites Two-spotted_spider_mite', 'Tomato___Target_Spot', 'Tomato___Tomato_Yellow_Leaf_Curl_Virus', 'Tomato___Tomato_mosaic_virus', 'Tomato___healthy']\n"
     ]
    }
   ],
   "source": [
    "categories = list(train_data.class_indices.keys())\n",
    "print(categories)"
   ]
  },
  {
   "cell_type": "code",
   "execution_count": 6,
   "metadata": {
    "execution": {
     "iopub.execute_input": "2020-08-12T16:47:05.201040Z",
     "iopub.status.busy": "2020-08-12T16:47:05.200085Z",
     "iopub.status.idle": "2020-08-12T16:47:05.203942Z",
     "shell.execute_reply": "2020-08-12T16:47:05.204419Z"
    },
    "papermill": {
     "duration": 0.016183,
     "end_time": "2020-08-12T16:47:05.204550",
     "exception": false,
     "start_time": "2020-08-12T16:47:05.188367",
     "status": "completed"
    },
    "tags": []
   },
   "outputs": [
    {
     "data": {
      "text/plain": [
       "(224, 224, 3)"
      ]
     },
     "execution_count": 6,
     "metadata": {},
     "output_type": "execute_result"
    }
   ],
   "source": [
    "train_data.image_shape"
   ]
  },
  {
   "cell_type": "markdown",
   "metadata": {
    "papermill": {
     "duration": 0.006192,
     "end_time": "2020-08-12T16:47:05.217115",
     "exception": false,
     "start_time": "2020-08-12T16:47:05.210923",
     "status": "completed"
    },
    "tags": []
   },
   "source": [
    "## Using MobileNet"
   ]
  },
  {
   "cell_type": "code",
   "execution_count": 7,
   "metadata": {
    "execution": {
     "iopub.execute_input": "2020-08-12T16:47:05.234821Z",
     "iopub.status.busy": "2020-08-12T16:47:05.234205Z",
     "iopub.status.idle": "2020-08-12T16:47:10.822076Z",
     "shell.execute_reply": "2020-08-12T16:47:10.820794Z"
    },
    "papermill": {
     "duration": 5.598617,
     "end_time": "2020-08-12T16:47:10.822205",
     "exception": false,
     "start_time": "2020-08-12T16:47:05.223588",
     "status": "completed"
    },
    "tags": []
   },
   "outputs": [],
   "source": [
    "base_model = keras.applications.MobileNet(weights=\"imagenet\",include_top=False,input_shape=(image_size,image_size,3))"
   ]
  },
  {
   "cell_type": "code",
   "execution_count": 8,
   "metadata": {
    "execution": {
     "iopub.execute_input": "2020-08-12T16:47:10.847415Z",
     "iopub.status.busy": "2020-08-12T16:47:10.846635Z",
     "iopub.status.idle": "2020-08-12T16:47:11.760519Z",
     "shell.execute_reply": "2020-08-12T16:47:11.759968Z"
    },
    "papermill": {
     "duration": 0.931029,
     "end_time": "2020-08-12T16:47:11.760645",
     "exception": false,
     "start_time": "2020-08-12T16:47:10.829616",
     "status": "completed"
    },
    "tags": []
   },
   "outputs": [],
   "source": [
    "\n",
    "base_model.trainable = False\n",
    "inputs = keras.Input(shape=(image_size,image_size,3))\n",
    "x = base_model(inputs,training=False)\n",
    "x = keras.layers.GlobalAveragePooling2D()(x)\n",
    "x = keras.layers.Dropout(0.2)(x)\n",
    "x = keras.layers.Dense(len(categories),activation=\"softmax\")(x)#adding fc layer\n",
    "model = keras.Model(inputs=inputs, outputs=x, name=\"LeafDisease_MobileNet\")"
   ]
  },
  {
   "cell_type": "code",
   "execution_count": 9,
   "metadata": {
    "execution": {
     "iopub.execute_input": "2020-08-12T16:47:11.794267Z",
     "iopub.status.busy": "2020-08-12T16:47:11.792498Z",
     "iopub.status.idle": "2020-08-12T16:47:11.797898Z",
     "shell.execute_reply": "2020-08-12T16:47:11.794873Z"
    },
    "papermill": {
     "duration": 0.030216,
     "end_time": "2020-08-12T16:47:11.798071",
     "exception": false,
     "start_time": "2020-08-12T16:47:11.767855",
     "status": "completed"
    },
    "tags": []
   },
   "outputs": [
    {
     "name": "stdout",
     "output_type": "stream",
     "text": [
      "Model: \"LeafDisease_MobileNet\"\n",
      "_________________________________________________________________\n",
      " Layer (type)                Output Shape              Param #   \n",
      "=================================================================\n",
      " input_2 (InputLayer)        [(None, 224, 224, 3)]     0         \n",
      "                                                                 \n",
      " mobilenet_1.00_224 (Functio  (None, 7, 7, 1024)       3228864   \n",
      " nal)                                                            \n",
      "                                                                 \n",
      " global_average_pooling2d (G  (None, 1024)             0         \n",
      " lobalAveragePooling2D)                                          \n",
      "                                                                 \n",
      " dropout (Dropout)           (None, 1024)              0         \n",
      "                                                                 \n",
      " dense (Dense)               (None, 38)                38950     \n",
      "                                                                 \n",
      "=================================================================\n",
      "Total params: 3,267,814\n",
      "Trainable params: 38,950\n",
      "Non-trainable params: 3,228,864\n",
      "_________________________________________________________________\n"
     ]
    }
   ],
   "source": [
    "model.summary()"
   ]
  },
  {
   "cell_type": "code",
   "execution_count": 10,
   "metadata": {
    "execution": {
     "iopub.execute_input": "2020-08-12T16:47:11.824667Z",
     "iopub.status.busy": "2020-08-12T16:47:11.821591Z",
     "iopub.status.idle": "2020-08-12T16:47:11.841234Z",
     "shell.execute_reply": "2020-08-12T16:47:11.841712Z"
    },
    "papermill": {
     "duration": 0.035495,
     "end_time": "2020-08-12T16:47:11.841830",
     "exception": false,
     "start_time": "2020-08-12T16:47:11.806335",
     "status": "completed"
    },
    "tags": []
   },
   "outputs": [],
   "source": [
    "\n",
    "optimizer = keras.optimizers.Adam()\n",
    "model.compile(optimizer=optimizer,loss=keras.losses.CategoricalCrossentropy(from_logits=True),metrics=[keras.metrics.CategoricalAccuracy()])"
   ]
  },
  {
   "cell_type": "code",
   "execution_count": 11,
   "metadata": {
    "execution": {
     "iopub.execute_input": "2020-08-12T16:47:11.863587Z",
     "iopub.status.busy": "2020-08-12T16:47:11.860109Z",
     "iopub.status.idle": "2020-08-12T17:16:35.610797Z",
     "shell.execute_reply": "2020-08-12T17:16:35.611366Z"
    },
    "papermill": {
     "duration": 1763.762437,
     "end_time": "2020-08-12T17:16:35.611528",
     "exception": false,
     "start_time": "2020-08-12T16:47:11.849091",
     "status": "completed"
    },
    "tags": []
   },
   "outputs": [
    {
     "name": "stderr",
     "output_type": "stream",
     "text": [
      "C:\\Users\\Ambika\\AppData\\Local\\Temp/ipykernel_9892/361906534.py:1: UserWarning: `Model.fit_generator` is deprecated and will be removed in a future version. Please use `Model.fit`, which supports generators.\n",
      "  history = model.fit_generator(train_data,\n"
     ]
    },
    {
     "name": "stdout",
     "output_type": "stream",
     "text": [
      "Epoch 1/35\n"
     ]
    },
    {
     "name": "stderr",
     "output_type": "stream",
     "text": [
      "C:\\Users\\Ambika\\anaconda3\\lib\\site-packages\\tensorflow\\python\\util\\dispatch.py:1082: UserWarning: \"`categorical_crossentropy` received `from_logits=True`, but the `output` argument was produced by a sigmoid or softmax activation and thus does not represent logits. Was this intended?\"\n",
      "  return dispatch_target(*args, **kwargs)\n"
     ]
    },
    {
     "name": "stdout",
     "output_type": "stream",
     "text": [
      "150/150 [==============================] - 338s 2s/step - loss: 1.9822 - categorical_accuracy: 0.4856 - val_loss: 0.8122 - val_categorical_accuracy: 0.8006\n",
      "Epoch 2/35\n",
      "150/150 [==============================] - 295s 2s/step - loss: 0.7781 - categorical_accuracy: 0.7842 - val_loss: 0.5217 - val_categorical_accuracy: 0.8612\n",
      "Epoch 3/35\n",
      "150/150 [==============================] - 281s 2s/step - loss: 0.5726 - categorical_accuracy: 0.8369 - val_loss: 0.4241 - val_categorical_accuracy: 0.8788\n",
      "Epoch 4/35\n",
      "150/150 [==============================] - 287s 2s/step - loss: 0.4725 - categorical_accuracy: 0.8571 - val_loss: 0.3148 - val_categorical_accuracy: 0.9122\n",
      "Epoch 5/35\n",
      "150/150 [==============================] - 293s 2s/step - loss: 0.4127 - categorical_accuracy: 0.8765 - val_loss: 0.2816 - val_categorical_accuracy: 0.9175\n",
      "Epoch 6/35\n",
      "150/150 [==============================] - 311s 2s/step - loss: 0.3666 - categorical_accuracy: 0.8925 - val_loss: 0.2592 - val_categorical_accuracy: 0.9237\n",
      "Epoch 7/35\n",
      "150/150 [==============================] - 299s 2s/step - loss: 0.3377 - categorical_accuracy: 0.8933 - val_loss: 0.2506 - val_categorical_accuracy: 0.9209\n",
      "Epoch 8/35\n",
      "150/150 [==============================] - 326s 2s/step - loss: 0.3089 - categorical_accuracy: 0.9056 - val_loss: 0.2202 - val_categorical_accuracy: 0.9316\n",
      "Epoch 9/35\n",
      "150/150 [==============================] - 296s 2s/step - loss: 0.2931 - categorical_accuracy: 0.9092 - val_loss: 0.2151 - val_categorical_accuracy: 0.9297\n",
      "Epoch 10/35\n",
      "150/150 [==============================] - 287s 2s/step - loss: 0.2859 - categorical_accuracy: 0.9108 - val_loss: 0.2058 - val_categorical_accuracy: 0.9359\n",
      "Epoch 11/35\n",
      "150/150 [==============================] - 280s 2s/step - loss: 0.2713 - categorical_accuracy: 0.9140 - val_loss: 0.1833 - val_categorical_accuracy: 0.9422\n",
      "Epoch 12/35\n",
      "150/150 [==============================] - 310s 2s/step - loss: 0.2630 - categorical_accuracy: 0.9135 - val_loss: 0.2251 - val_categorical_accuracy: 0.9259\n",
      "Epoch 13/35\n",
      "150/150 [==============================] - 296s 2s/step - loss: 0.2640 - categorical_accuracy: 0.9151 - val_loss: 0.1784 - val_categorical_accuracy: 0.9400\n",
      "Epoch 14/35\n",
      "150/150 [==============================] - 310s 2s/step - loss: 0.2564 - categorical_accuracy: 0.9219 - val_loss: 0.1826 - val_categorical_accuracy: 0.9441\n",
      "Epoch 15/35\n",
      "150/150 [==============================] - 374s 2s/step - loss: 0.2441 - categorical_accuracy: 0.9231 - val_loss: 0.1927 - val_categorical_accuracy: 0.9331\n",
      "Epoch 16/35\n",
      "150/150 [==============================] - 415s 3s/step - loss: 0.2306 - categorical_accuracy: 0.9227 - val_loss: 0.1672 - val_categorical_accuracy: 0.9478\n",
      "Epoch 17/35\n",
      "150/150 [==============================] - 395s 3s/step - loss: 0.2299 - categorical_accuracy: 0.9227 - val_loss: 0.1745 - val_categorical_accuracy: 0.9441\n",
      "Epoch 18/35\n",
      "150/150 [==============================] - 397s 3s/step - loss: 0.2201 - categorical_accuracy: 0.9302 - val_loss: 0.1810 - val_categorical_accuracy: 0.9359\n",
      "Epoch 19/35\n",
      "150/150 [==============================] - 335s 2s/step - loss: 0.2405 - categorical_accuracy: 0.9248 - val_loss: 0.1856 - val_categorical_accuracy: 0.9381\n",
      "Epoch 20/35\n",
      "150/150 [==============================] - 372s 2s/step - loss: 0.2104 - categorical_accuracy: 0.9300 - val_loss: 0.1673 - val_categorical_accuracy: 0.9406\n",
      "Epoch 21/35\n",
      "150/150 [==============================] - 336s 2s/step - loss: 0.2290 - categorical_accuracy: 0.9208 - val_loss: 0.1631 - val_categorical_accuracy: 0.9434\n",
      "Epoch 22/35\n",
      "150/150 [==============================] - 336s 2s/step - loss: 0.2131 - categorical_accuracy: 0.9281 - val_loss: 0.1603 - val_categorical_accuracy: 0.9525\n",
      "Epoch 23/35\n",
      "150/150 [==============================] - 327s 2s/step - loss: 0.2232 - categorical_accuracy: 0.9281 - val_loss: 0.1438 - val_categorical_accuracy: 0.9541\n",
      "Epoch 24/35\n",
      "150/150 [==============================] - 321s 2s/step - loss: 0.2067 - categorical_accuracy: 0.9325 - val_loss: 0.1423 - val_categorical_accuracy: 0.9519\n",
      "Epoch 25/35\n",
      "150/150 [==============================] - 640s 4s/step - loss: 0.2092 - categorical_accuracy: 0.9315 - val_loss: 0.1454 - val_categorical_accuracy: 0.9541\n",
      "Epoch 26/35\n",
      "150/150 [==============================] - 332s 2s/step - loss: 0.2083 - categorical_accuracy: 0.9298 - val_loss: 0.1531 - val_categorical_accuracy: 0.9494\n",
      "Epoch 27/35\n",
      "150/150 [==============================] - 335s 2s/step - loss: 0.2000 - categorical_accuracy: 0.9335 - val_loss: 0.1605 - val_categorical_accuracy: 0.9466\n",
      "Epoch 28/35\n",
      "150/150 [==============================] - 368s 2s/step - loss: 0.2154 - categorical_accuracy: 0.9299 - val_loss: 0.1489 - val_categorical_accuracy: 0.9469\n",
      "Epoch 29/35\n",
      "150/150 [==============================] - 390s 3s/step - loss: 0.2029 - categorical_accuracy: 0.9356 - val_loss: 0.1421 - val_categorical_accuracy: 0.9522\n",
      "Epoch 30/35\n",
      "150/150 [==============================] - 317s 2s/step - loss: 0.1937 - categorical_accuracy: 0.9373 - val_loss: 0.1504 - val_categorical_accuracy: 0.9472\n",
      "Epoch 31/35\n",
      "150/150 [==============================] - 294s 2s/step - loss: 0.2154 - categorical_accuracy: 0.9244 - val_loss: 0.1454 - val_categorical_accuracy: 0.9488\n",
      "Epoch 32/35\n",
      "150/150 [==============================] - 299s 2s/step - loss: 0.1967 - categorical_accuracy: 0.9362 - val_loss: 0.1413 - val_categorical_accuracy: 0.9459\n",
      "Epoch 33/35\n",
      "150/150 [==============================] - 282s 2s/step - loss: 0.2027 - categorical_accuracy: 0.9296 - val_loss: 0.1283 - val_categorical_accuracy: 0.9559\n",
      "Epoch 34/35\n",
      "150/150 [==============================] - 289s 2s/step - loss: 0.1847 - categorical_accuracy: 0.9375 - val_loss: 0.1331 - val_categorical_accuracy: 0.9575\n",
      "Epoch 35/35\n",
      "150/150 [==============================] - 308s 2s/step - loss: 0.1848 - categorical_accuracy: 0.9373 - val_loss: 0.1464 - val_categorical_accuracy: 0.9488\n"
     ]
    }
   ],
   "source": [
    "history = model.fit_generator(train_data,\n",
    "          validation_data=test_data,\n",
    "          epochs=35,\n",
    "          steps_per_epoch=150,\n",
    "          validation_steps=100\n",
    "         )"
   ]
  },
  {
   "cell_type": "code",
   "execution_count": 12,
   "metadata": {
    "execution": {
     "iopub.execute_input": "2020-08-12T17:16:36.046434Z",
     "iopub.status.busy": "2020-08-12T17:16:36.045228Z",
     "iopub.status.idle": "2020-08-12T17:17:22.377193Z",
     "shell.execute_reply": "2020-08-12T17:17:22.376398Z"
    },
    "papermill": {
     "duration": 46.551717,
     "end_time": "2020-08-12T17:17:22.377347",
     "exception": false,
     "start_time": "2020-08-12T17:16:35.825630",
     "status": "completed"
    },
    "tags": []
   },
   "outputs": [
    {
     "name": "stdout",
     "output_type": "stream",
     "text": [
      "1099/1099 [==============================] - 1128s 1s/step - loss: 0.1365 - categorical_accuracy: 0.9528\n"
     ]
    },
    {
     "data": {
      "text/plain": [
       "[0.13653682172298431, 0.9528226852416992]"
      ]
     },
     "execution_count": 12,
     "metadata": {},
     "output_type": "execute_result"
    }
   ],
   "source": [
    "model.evaluate(test_data)"
   ]
  },
  {
   "cell_type": "code",
   "execution_count": 13,
   "metadata": {
    "execution": {
     "iopub.execute_input": "2020-08-12T17:17:22.950659Z",
     "iopub.status.busy": "2020-08-12T17:17:22.935461Z",
     "iopub.status.idle": "2020-08-12T17:17:23.080597Z",
     "shell.execute_reply": "2020-08-12T17:17:23.079401Z"
    },
    "papermill": {
     "duration": 0.409316,
     "end_time": "2020-08-12T17:17:23.080723",
     "exception": false,
     "start_time": "2020-08-12T17:17:22.671407",
     "status": "completed"
    },
    "tags": []
   },
   "outputs": [],
   "source": [
    "model.save('leaf-cnn1.h5')"
   ]
  },
  {
   "cell_type": "code",
   "execution_count": 14,
   "metadata": {
    "execution": {
     "iopub.execute_input": "2020-08-12T17:17:23.591242Z",
     "iopub.status.busy": "2020-08-12T17:17:23.590052Z",
     "iopub.status.idle": "2020-08-12T17:17:23.783744Z",
     "shell.execute_reply": "2020-08-12T17:17:23.784239Z"
    },
    "papermill": {
     "duration": 0.457988,
     "end_time": "2020-08-12T17:17:23.784385",
     "exception": false,
     "start_time": "2020-08-12T17:17:23.326397",
     "status": "completed"
    },
    "tags": []
   },
   "outputs": [
    {
     "data": {
      "text/plain": [
       "<matplotlib.legend.Legend at 0x20c9fd91670>"
      ]
     },
     "execution_count": 14,
     "metadata": {},
     "output_type": "execute_result"
    },
    {
     "data": {
      "image/png": "[encoded data removed]",
      "text/plain": [
       "<Figure size 720x432 with 1 Axes>"
      ]
     },
     "metadata": {
      "needs_background": "light"
     },
     "output_type": "display_data"
    }
   ],
   "source": [
    "loss = history.history['loss']\n",
    "val_loss = history.history['val_loss']\n",
    "\n",
    "epochs = range(len(loss))\n",
    "\n",
    "fig = plt.figure(figsize=(10,6))\n",
    "plt.plot(epochs,loss,c=\"red\",label=\"Training\")\n",
    "plt.plot(epochs,val_loss,c=\"blue\",label=\"Validation\")\n",
    "plt.xlabel(\"Epochs\")\n",
    "plt.ylabel(\"Loss\")\n",
    "plt.legend()"
   ]
  },
  {
   "cell_type": "code",
   "execution_count": 15,
   "metadata": {
    "execution": {
     "iopub.execute_input": "2020-08-12T17:17:24.321110Z",
     "iopub.status.busy": "2020-08-12T17:17:24.315203Z",
     "iopub.status.idle": "2020-08-12T17:17:24.475623Z",
     "shell.execute_reply": "2020-08-12T17:17:24.476145Z"
    },
    "papermill": {
     "duration": 0.449281,
     "end_time": "2020-08-12T17:17:24.476300",
     "exception": false,
     "start_time": "2020-08-12T17:17:24.027019",
     "status": "completed"
    },
    "tags": []
   },
   "outputs": [
    {
     "data": {
      "text/plain": [
       "<matplotlib.legend.Legend at 0x20ca766e4f0>"
      ]
     },
     "execution_count": 15,
     "metadata": {},
     "output_type": "execute_result"
    },
    {
     "data": {
      "image/png": "[encoded data removed]",
      "text/plain": [
       "<Figure size 720x432 with 1 Axes>"
      ]
     },
     "metadata": {
      "needs_background": "light"
     },
     "output_type": "display_data"
    }
   ],
   "source": [
    "acc = history.history['categorical_accuracy']\n",
    "val_acc = history.history['val_categorical_accuracy']\n",
    "\n",
    "epochs = range(len(acc))\n",
    "\n",
    "fig = plt.figure(figsize=(10,6))\n",
    "plt.plot(epochs,acc,c=\"red\",label=\"Training\")\n",
    "plt.plot(epochs,val_acc,c=\"blue\",label=\"Validation\")\n",
    "plt.xlabel(\"Epochs\")\n",
    "plt.ylabel(\"Accuracy\")\n",
    "plt.legend()"
   ]
  },
  {
   "cell_type": "code",
   "execution_count": null,
   "metadata": {},
   "outputs": [],
   "source": []
  }
 ],
 "metadata": {
  "kernelspec": {
   "display_name": "Python 3 (ipykernel)",
   "language": "python",
   "name": "python3"
  },
  "language_info": {
   "codemirror_mode": {
    "name": "ipython",
    "version": 3
   },
   "file_extension": ".py",
   "mimetype": "text/x-python",
   "name": "python",
   "nbconvert_exporter": "python",
   "pygments_lexer": "ipython3",
   "version": "3.9.7"
  },
  "papermill": {
   "duration": 1844.677654,
   "end_time": "2020-08-12T17:17:26.051700",
   "environment_variables": {},
   "exception": null,
   "input_path": "__notebook__.ipynb",
   "output_path": "__notebook__.ipynb",
   "parameters": {},
   "start_time": "2020-08-12T16:46:41.374046",
   "version": "2.1.0"
  }
 },
 "nbformat": 4,
 "nbformat_minor": 4
}
